{
 "cells": [
  {
   "cell_type": "markdown",
   "metadata": {},
   "source": [
    "## 1 赛题理解"
   ]
  },
  {
   "cell_type": "markdown",
   "metadata": {},
   "source": [
    "### 1.1 赛题概况"
   ]
  },
  {
   "cell_type": "markdown",
   "metadata": {},
   "source": [
    "赛题以预测金融风险为任务，数据集报名后可见并可下载，该数据来自某信贷平台的贷款记录，总数据量超过120w，包含47列变量信息，其中15列为匿名变量。为了保证比赛的公平性，将会从中抽取80万条作为训练集，20万条作为测试集A，20万条作为测试集B，同时会对employmentTitle、purpose、postCode和title等信息进行脱敏。\n",
    "\n"
   ]
  },
  {
   "cell_type": "markdown",
   "metadata": {},
   "source": [
    "### 1.2 数据概况"
   ]
  },
  {
   "cell_type": "markdown",
   "metadata": {},
   "source": [
    "- **train数据集**\n",
    "\n",
    "**isDefault 为预测指标**\n",
    "\n",
    "id 为贷款清单分配的唯一信用证标识\n",
    "\n",
    "loanAmnt 贷款金额\n",
    "\n",
    "term 贷款期限（year）\n",
    "\n",
    "interestRate 贷款利率\n",
    "\n",
    "installment 分期付款金额\n",
    "\n",
    "grade 贷款等级\n",
    "\n",
    "subGrade 贷款等级之子级\n",
    "\n",
    "employmentTitle 就业职称\n",
    "\n",
    "employmentLength 就业年限（年）\n",
    "\n",
    "homeOwnership 借款人在登记时提供的房屋所有权状况\n",
    "\n",
    "annualIncome 年收入\n",
    "\n",
    "verificationStatus 验证状态\n",
    "\n",
    "issueDate 贷款发放的月份\n",
    "\n",
    "purpose 借款人在贷款申请时的贷款用途类别\n",
    "\n",
    "postCode 借款人在贷款申请中提供的邮政编码的前3位数字\n",
    "\n",
    "regionCode 地区编码\n",
    "\n",
    "dti 债务收入比\n",
    "\n",
    "delinquency_2years 借款人过去2年信用档案中逾期30天以上的违约事件数\n",
    "\n",
    "ficoRangeLow 借款人在贷款发放时的fico所属的下限范围\n",
    "\n",
    "ficoRangeHigh 借款人在贷款发放时的fico所属的上限范围\n",
    "\n",
    "openAcc 借款人信用档案中未结信用额度的数量\n",
    "\n",
    "pubRec 贬损公共记录的数量\n",
    "\n",
    "pubRecBankruptcies 公开记录清除的数量\n",
    "\n",
    "revolBal 信贷周转余额合计\n",
    "\n",
    "revolUtil 循环额度利用率，或借款人使用的相对于所有可用循环信贷的信贷金额\n",
    "\n",
    "totalAcc 借款人信用档案中当前的信用额度总数\n",
    "\n",
    "initialListStatus 贷款的初始列表状态\n",
    "\n",
    "applicationType 表明贷款是个人申请还是与两个共同借款人的联合申请\n",
    "\n",
    "earliesCreditLine 借款人最早报告的信用额度开立的月份\n",
    "\n",
    "title 借款人提供的贷款名称\n",
    "\n",
    "policyCode 公开可用的策略_代码=1新产品不公开可用的策略_代码=2\n",
    "\n",
    "n系列匿名特征 匿名特征n0-n14，为一些贷款人行为计数特征的处理"
   ]
  },
  {
   "cell_type": "markdown",
   "metadata": {},
   "source": [
    "### 1.3 评价指标"
   ]
  },
  {
   "cell_type": "markdown",
   "metadata": {},
   "source": [
    "竞赛采用AUC作为评价指标。AUC（Area Under Curve）被定义为 ROC曲线 下与坐标轴围成的面积。"
   ]
  },
  {
   "cell_type": "markdown",
   "metadata": {},
   "source": [
    "- 取值范围：AUC的值在0.5～1之间\n",
    "- 优点：AUC的计算方法同时考虑了分类器对于正例和负例的分类能力，在样本不平衡的情况下仍能对分类器作出合理的评价"
   ]
  },
  {
   "cell_type": "markdown",
   "metadata": {},
   "source": [
    "## 2 EDA"
   ]
  },
  {
   "cell_type": "markdown",
   "metadata": {},
   "source": [
    "2.1 导入数据和package"
   ]
  },
  {
   "cell_type": "code",
   "execution_count": 2,
   "metadata": {},
   "outputs": [],
   "source": [
    "import pandas as pd\n",
    "import numpy as np\n",
    "import plotly"
   ]
  },
  {
   "cell_type": "code",
   "execution_count": null,
   "metadata": {},
   "outputs": [],
   "source": []
  }
 ],
 "metadata": {
  "kernelspec": {
   "display_name": "Python 3",
   "language": "python",
   "name": "python3"
  },
  "language_info": {
   "codemirror_mode": {
    "name": "ipython",
    "version": 3
   },
   "file_extension": ".py",
   "mimetype": "text/x-python",
   "name": "python",
   "nbconvert_exporter": "python",
   "pygments_lexer": "ipython3",
   "version": "3.8.3"
  }
 },
 "nbformat": 4,
 "nbformat_minor": 4
}
